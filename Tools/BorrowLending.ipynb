{
 "cells": [
  {
   "cell_type": "code",
   "execution_count": 9,
   "metadata": {},
   "outputs": [
    {
     "data": {
      "application/vnd.jupyter.widget-view+json": {
       "model_id": "185b58de180e459780a44fb066b9ebfa",
       "version_major": 2,
       "version_minor": 0
      },
      "text/plain": [
       "Accordion(children=(VBox(children=(VBox(children=(HBox(children=(FloatSlider(value=72.9, description='AVAX: ',…"
      ]
     },
     "metadata": {},
     "output_type": "display_data"
    },
    {
     "data": {
      "application/vnd.jupyter.widget-view+json": {
       "model_id": "560751501e0d4a6cbbfe57e2bccedebc",
       "version_major": 2,
       "version_minor": 0
      },
      "text/plain": [
       "Accordion(children=(VBox(children=(VBox(children=(HBox(children=(FloatSlider(value=72.9, description='AVAX: ',…"
      ]
     },
     "metadata": {},
     "output_type": "display_data"
    },
    {
     "data": {
      "application/vnd.jupyter.widget-view+json": {
       "model_id": "fa11c28f00244d8bb9c5e2f9f8435c36",
       "version_major": 2,
       "version_minor": 0
      },
      "text/plain": [
       "Text(value='1.21', description='健康系数：', placeholder='1.00')"
      ]
     },
     "metadata": {},
     "output_type": "display_data"
    },
    {
     "data": {
      "application/vnd.jupyter.widget-view+json": {
       "model_id": "602689da65254bb18a01608cafe4ecc7",
       "version_major": 2,
       "version_minor": 0
      },
      "text/plain": [
       "Text(value='0.83', description='Limit Used: ', placeholder='1.00')"
      ]
     },
     "metadata": {},
     "output_type": "display_data"
    },
    {
     "data": {
      "application/vnd.jupyter.widget-view+json": {
       "model_id": "b9c4cb913d874bd1ac9c2d2ca568faa5",
       "version_major": 2,
       "version_minor": 0
      },
      "text/plain": [
       "Text(value='25.81', description='每月利息：', placeholder='1.00')"
      ]
     },
     "metadata": {},
     "output_type": "display_data"
    },
    {
     "data": {
      "application/vnd.jupyter.widget-view+json": {
       "model_id": "fb9636162327400495e7fe0baead7ce4",
       "version_major": 2,
       "version_minor": 0
      },
      "text/plain": [
       "Output()"
      ]
     },
     "metadata": {},
     "output_type": "display_data"
    }
   ],
   "source": [
    "import sys\n",
    "sys.path.append(\"../\")\n",
    "from ipywidgets import interact, interactive, fixed, interact_manual\n",
    "import ipywidgets as widgets\n",
    "from IPython.display import display\n",
    "from cryptotoolkits.ui import cryptowidgets\n",
    "from cryptotoolkits.ui import borrow\n",
    "from importlib import reload\n",
    "reload(cryptowidgets)\n",
    "reload(borrow)\n",
    "# Benqi 借贷协议\n",
    "# SupplyToken(token_name, amount, current_price, max_price, colat, liquid, apr)\n",
    "AVAX_supply = {\"token\": \"AVAX\", \"amount\": 45.8, \"current_price\": 72.9, \"max_price\": 200, \"colat_price\": 0.7, \"liquid_price\": 0.8, \"apr\": 0.083}\n",
    "USDC_supply = {\"token\": \"USDC\", \"amount\": 5705.9, \"current_price\": 1, \"max_price\": 1.1, \"colat_price\": 0.8, \"liquid_price\": 0.85, \"apr\": 0.0586}\n",
    "ETH_supply = {\"token\": \"ETH\", \"amount\": 0.1877, \"current_price\": 2800, \"max_price\": 4700, \"colat_price\": 0.7, \"liquid_price\": 0.75, \"apr\": 0.012}\n",
    "BTC_supply = {\"token\": \"BTC\", \"amount\": 0.0128, \"current_price\": 39000, \"max_price\": 74700, \"colat_price\": 0.675, \"liquid_price\": 0.7, \"apr\": 0.014}\n",
    "\n",
    "supply_list = [AVAX_supply, USDC_supply, ETH_supply, BTC_supply]\n",
    "\n",
    "AVAX_Borrowed = {\"token\": \"AVAX\", \"amount\": 0, \"current_price\": 72.9, \"max_price\": 200, \"apr\": -0.0439}\n",
    "USDC_Borrowed = {\"token\": \"USDC\", \"amount\": 6300.8, \"current_price\": 1, \"max_price\": 1.1, \"apr\": -0.05}\n",
    "\n",
    "borrow_list = [AVAX_Borrowed, USDC_Borrowed]\n",
    "\n",
    "tx = borrow.BorrowLendingAnalyze(supply_list, borrow_list, True)\n",
    "tx.show()\n",
    "\n"
   ]
  },
  {
   "cell_type": "markdown",
   "metadata": {},
   "source": []
  },
  {
   "cell_type": "code",
   "execution_count": 10,
   "metadata": {},
   "outputs": [
    {
     "data": {
      "application/vnd.jupyter.widget-view+json": {
       "model_id": "75184864b3fb43d4901e855b70824aef",
       "version_major": 2,
       "version_minor": 0
      },
      "text/plain": [
       "Accordion(children=(VBox(children=(VBox(children=(HBox(children=(FloatSlider(value=1.0, description='USDT: ', …"
      ]
     },
     "metadata": {},
     "output_type": "display_data"
    },
    {
     "data": {
      "application/vnd.jupyter.widget-view+json": {
       "model_id": "4d6727e289b946aaae74f55781286843",
       "version_major": 2,
       "version_minor": 0
      },
      "text/plain": [
       "Accordion(children=(VBox(children=(VBox(children=(HBox(children=(FloatSlider(value=1.95, description='FTM: ', …"
      ]
     },
     "metadata": {},
     "output_type": "display_data"
    },
    {
     "data": {
      "application/vnd.jupyter.widget-view+json": {
       "model_id": "4ec6063f0ccb4fdeb1048288b031e49a",
       "version_major": 2,
       "version_minor": 0
      },
      "text/plain": [
       "Text(value='1.78', description='健康系数：', placeholder='1.00')"
      ]
     },
     "metadata": {},
     "output_type": "display_data"
    },
    {
     "data": {
      "application/vnd.jupyter.widget-view+json": {
       "model_id": "c57b88d0ff8545cfb9b3447295f02f9c",
       "version_major": 2,
       "version_minor": 0
      },
      "text/plain": [
       "Text(value='0.56', description='Limit Used: ', placeholder='1.00')"
      ]
     },
     "metadata": {},
     "output_type": "display_data"
    },
    {
     "data": {
      "application/vnd.jupyter.widget-view+json": {
       "model_id": "afdf662652ae4ac8a3329b4f98e7bcd8",
       "version_major": 2,
       "version_minor": 0
      },
      "text/plain": [
       "Text(value='-11.09', description='每月利息：', placeholder='1.00')"
      ]
     },
     "metadata": {},
     "output_type": "display_data"
    },
    {
     "data": {
      "application/vnd.jupyter.widget-view+json": {
       "model_id": "26e0fc4c42874b069f5520ef43066da1",
       "version_major": 2,
       "version_minor": 0
      },
      "text/plain": [
       "Output()"
      ]
     },
     "metadata": {},
     "output_type": "display_data"
    }
   ],
   "source": [
    "import sys\n",
    "sys.path.append(\"../\")\n",
    "from ipywidgets import interact, interactive, fixed, interact_manual\n",
    "import ipywidgets as widgets\n",
    "from IPython.display import display\n",
    "from cryptotoolkits.ui import cryptowidgets\n",
    "from cryptotoolkits.ui import borrow\n",
    "from importlib import reload\n",
    "reload(cryptowidgets)\n",
    "reload(borrow)\n",
    "# Geist 借贷协议\n",
    "# SupplyToken(token_name, amount, current_price, max_price, colat, liquid, apr)\n",
    "USDT_supply = {\"token\": \"USDT\", \"amount\": 5028, \"current_price\": 1, \"max_price\": 1.1, \"colat_price\": 0.8, \"liquid_price\": 0.85, \"apr\": 0.06}\n",
    "USDC_supply = {\"token\": \"USDC\", \"amount\": 1560, \"current_price\": 1, \"max_price\": 4700, \"colat_price\": 0.8, \"liquid_price\": 0.85, \"apr\": 0.03}\n",
    "\n",
    "supply_list = [USDT_supply, USDC_supply]\n",
    "\n",
    "FTM_Borrowed = {\"token\": \"FTM\", \"amount\": 1611.139, \"current_price\": 1.95, \"max_price\": 4, \"apr\": -0.04}\n",
    "\n",
    "borrow_list = [FTM_Borrowed]\n",
    "\n",
    "tx = borrow.BorrowLendingAnalyze(supply_list, borrow_list)\n",
    "tx.show()\n",
    "\n"
   ]
  }
 ],
 "metadata": {
  "interpreter": {
   "hash": "f7588778c7b8cf94449eb66bf9832442c3874118ff742d2e76be98197c777dcd"
  },
  "kernelspec": {
   "display_name": "Python 3.10.2 64-bit",
   "language": "python",
   "name": "python3"
  },
  "language_info": {
   "codemirror_mode": {
    "name": "ipython",
    "version": 3
   },
   "file_extension": ".py",
   "mimetype": "text/x-python",
   "name": "python",
   "nbconvert_exporter": "python",
   "pygments_lexer": "ipython3",
   "version": "3.9.7"
  },
  "orig_nbformat": 4
 },
 "nbformat": 4,
 "nbformat_minor": 2
}
